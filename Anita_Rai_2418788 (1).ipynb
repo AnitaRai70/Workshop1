{
  "nbformat": 4,
  "nbformat_minor": 0,
  "metadata": {
    "colab": {
      "provenance": []
    },
    "kernelspec": {
      "name": "python3",
      "display_name": "Python 3"
    },
    "language_info": {
      "name": "python"
    }
  },
  "cells": [
    {
      "cell_type": "markdown",
      "source": [
        "4.1 Warming Up Exercise: Basic Vector and Matrix Operation with Numpy.\n",
        "Problem - 1: Array Creation:\n",
        "Complete the following Tasks:\n",
        "1. Initialize an empty array with size 2X2.\n",
        "2. Initialize an all one array with size 4X2.\n",
        "3. Return a new array of given shape and type, filled with fill value.{Hint: np.full}\n",
        "4. Return a new array of zeros with same shape and type as a given array.{Hint: np.zeros like}\n",
        "5. Return a new array of ones with same shape and type as a given array.{Hint: np.ones like}\n",
        "6. For an existing list new_list = [1,2,3,4] convert to an numpy array.{Hint: np.array()}"
      ],
      "metadata": {
        "id": "SGTofsaLVEhF"
      }
    },
    {
      "cell_type": "code",
      "source": [
        "import numpy as np\n",
        "#Task 1:\n",
        "empty_array = np.zeros((2, 2))\n",
        "print(\"Empty array:\")\n",
        "print(empty_array)\n",
        "#Task 2:\n",
        "ones_array = np.ones((4,2))\n",
        "print(\"all one array: \")\n",
        "print(ones_array)\n",
        "#Task 3:\n",
        "fill_value_array = np.full((3,3), 7)\n",
        "print(\"filled value array: \")\n",
        "print(fill_value_array)\n",
        "#Task 4:\n",
        "given_array = np.zeros_like([[1,2,3], [4,5,6]])\n",
        "print(\"given array: \")\n",
        "print(given_array)\n",
        "#Task 5:\n",
        "ones_like_array = np.ones_like((given_array))\n",
        "print(\"one like array: \")\n",
        "print(ones_like_array)\n",
        "#Task 6:\n",
        "new_list = [1,2,3,4]\n",
        "numpy_array = np.array(new_list)\n",
        "print(\"numpy array: \")\n",
        "print(numpy_array)"
      ],
      "metadata": {
        "colab": {
          "base_uri": "https://localhost:8080/"
        },
        "id": "rZJA6xjUVHa4",
        "outputId": "48f9f6e5-9403-4594-a8c6-9c92688d7f30"
      },
      "execution_count": null,
      "outputs": [
        {
          "output_type": "stream",
          "name": "stdout",
          "text": [
            "Empty array:\n",
            "[[0. 0.]\n",
            " [0. 0.]]\n",
            "all one array: \n",
            "[[1. 1.]\n",
            " [1. 1.]\n",
            " [1. 1.]\n",
            " [1. 1.]]\n",
            "filled value array: \n",
            "[[7 7 7]\n",
            " [7 7 7]\n",
            " [7 7 7]]\n",
            "given array: \n",
            "[[0 0 0]\n",
            " [0 0 0]]\n",
            "one like array: \n",
            "[[1 1 1]\n",
            " [1 1 1]]\n",
            "numpy array: \n",
            "[1 2 3 4]\n"
          ]
        }
      ]
    },
    {
      "cell_type": "markdown",
      "source": [
        "4.1.1 Problem - 2: Array Manipulation: Numerical Ranges and Array indexing:\n",
        "Complete the following tasks:\n",
        "1. Create an array with values ranging from 10 to 49. {Hint:np.arrange()}.\n",
        "2. Create a 3X3 matrix with values ranging from 0 to 8.\n",
        "{Hint:look for np.reshape()}\n",
        "3. Create a 3X3 identity matrix.{Hint:np.eye()}\n",
        "4. Create a random array of size 30 and find the mean of the array.\n",
        "{Hint:check for np.random.random() and array.mean() function}\n",
        "5. Create a 10X10 array with random values and find the minimum and maximum values.\n",
        "6. Create a zero array of size 10 and replace 5th element with 1.\n",
        "7. Reverse an array arr = [1,2,0,0,4,0].\n",
        "8. Create a 2d array with 1 on border and 0 inside.\n",
        "9. Create a 8X8 matrix and fill it with a checkerboard pattern."
      ],
      "metadata": {
        "id": "MPM18qOTd9Dv"
      }
    },
    {
      "cell_type": "code",
      "source": [
        "import numpy as np\n",
        "array_range = np.arange(10,50)\n",
        "print(array_range)"
      ],
      "metadata": {
        "id": "jIo7e6-WeFu5",
        "colab": {
          "base_uri": "https://localhost:8080/"
        },
        "outputId": "ed79745a-36e4-42c1-d4bc-90e544c41dca"
      },
      "execution_count": null,
      "outputs": [
        {
          "output_type": "stream",
          "name": "stdout",
          "text": [
            "[10 11 12 13 14 15 16 17 18 19 20 21 22 23 24 25 26 27 28 29 30 31 32 33\n",
            " 34 35 36 37 38 39 40 41 42 43 44 45 46 47 48 49]\n"
          ]
        }
      ]
    },
    {
      "cell_type": "code",
      "source": [
        "array_1d = np.arange(9)\n",
        "matrix_3x3 = array_1d.reshape((3, 3))\n",
        "print(matrix_3x3)"
      ],
      "metadata": {
        "colab": {
          "base_uri": "https://localhost:8080/"
        },
        "id": "Q6CYIL5_9RRt",
        "outputId": "d307bd19-fe3e-4249-9874-1fdc3048528a"
      },
      "execution_count": null,
      "outputs": [
        {
          "output_type": "stream",
          "name": "stdout",
          "text": [
            "[[0 1 2]\n",
            " [3 4 5]\n",
            " [6 7 8]]\n"
          ]
        }
      ]
    },
    {
      "cell_type": "code",
      "source": [
        "identity_matrix = np.eye(3)\n",
        "print(identity_matrix)"
      ],
      "metadata": {
        "colab": {
          "base_uri": "https://localhost:8080/"
        },
        "id": "MvBbo_Xf9krE",
        "outputId": "254ec31f-085a-4f15-c1d0-75c9d7453055"
      },
      "execution_count": null,
      "outputs": [
        {
          "output_type": "stream",
          "name": "stdout",
          "text": [
            "[[1. 0. 0.]\n",
            " [0. 1. 0.]\n",
            " [0. 0. 1.]]\n"
          ]
        }
      ]
    },
    {
      "cell_type": "code",
      "source": [
        "import numpy as np\n",
        "random_array = np.random.random(30)\n",
        "mean_value = random_array.mean()\n",
        "print(mean_value)"
      ],
      "metadata": {
        "colab": {
          "base_uri": "https://localhost:8080/"
        },
        "id": "p_ZQpEOF9t4T",
        "outputId": "bb6af152-31c5-4dbc-ae42-2098c11deae1"
      },
      "execution_count": null,
      "outputs": [
        {
          "output_type": "stream",
          "name": "stdout",
          "text": [
            "0.46401795621639425\n"
          ]
        }
      ]
    },
    {
      "cell_type": "code",
      "source": [
        "random_array = np.random.rand(10, 10)\n",
        "min_value = random_array.min()\n",
        "max_value = random_array.max()\n",
        "print(min_value, max_value)"
      ],
      "metadata": {
        "colab": {
          "base_uri": "https://localhost:8080/"
        },
        "id": "6ZoNoQtd9wgM",
        "outputId": "50c2812c-0bbb-469e-e49a-7aeea516a89f"
      },
      "execution_count": null,
      "outputs": [
        {
          "output_type": "stream",
          "name": "stdout",
          "text": [
            "0.006088759538443678 0.9950594380339514\n"
          ]
        }
      ]
    },
    {
      "cell_type": "code",
      "source": [
        "zeros_array = np.zeros(10)\n",
        "zeros_array[4] = 1\n",
        "print(zeros_array)"
      ],
      "metadata": {
        "colab": {
          "base_uri": "https://localhost:8080/"
        },
        "id": "yTmQKcGm9zKS",
        "outputId": "0839ac23-cdbd-416f-e963-d97703804117"
      },
      "execution_count": null,
      "outputs": [
        {
          "output_type": "stream",
          "name": "stdout",
          "text": [
            "[0. 0. 0. 0. 1. 0. 0. 0. 0. 0.]\n"
          ]
        }
      ]
    },
    {
      "cell_type": "code",
      "source": [
        "arr = np.array([1, 2, 0, 0, 4, 0])\n",
        "reversed_arr = arr[::-1]\n",
        "print(reversed_arr)"
      ],
      "metadata": {
        "colab": {
          "base_uri": "https://localhost:8080/"
        },
        "id": "qHiRbS7d92ui",
        "outputId": "0687d057-367a-4b13-ed22-fe6ba5a44008"
      },
      "execution_count": null,
      "outputs": [
        {
          "output_type": "stream",
          "name": "stdout",
          "text": [
            "[0 4 0 0 2 1]\n"
          ]
        }
      ]
    },
    {
      "cell_type": "code",
      "source": [
        "shape = (5,5)\n",
        "array_2d = np.ones(shape, dtype=int)\n",
        "array_2d[1:-1, 1:-1] = 0\n",
        "print(array_2d)"
      ],
      "metadata": {
        "colab": {
          "base_uri": "https://localhost:8080/"
        },
        "id": "3WHy2pBY96Lp",
        "outputId": "d064949f-0474-4c18-fcab-687ce7f250c8"
      },
      "execution_count": null,
      "outputs": [
        {
          "output_type": "stream",
          "name": "stdout",
          "text": [
            "[[1 1 1 1 1]\n",
            " [1 0 0 0 1]\n",
            " [1 0 0 0 1]\n",
            " [1 0 0 0 1]\n",
            " [1 1 1 1 1]]\n"
          ]
        }
      ]
    },
    {
      "cell_type": "code",
      "source": [
        "checkerboard = np.zeros((8,8), dtype=int)\n",
        "checkerboard[1::2, ::2] = 1\n",
        "checkerboard[::2, 1::2] = 1\n",
        "print(checkerboard)\n"
      ],
      "metadata": {
        "colab": {
          "base_uri": "https://localhost:8080/"
        },
        "id": "_KIqx8sE99dw",
        "outputId": "91f0ac1d-8ddb-4b8c-8f54-53708845ffa8"
      },
      "execution_count": null,
      "outputs": [
        {
          "output_type": "stream",
          "name": "stdout",
          "text": [
            "[[0 1 0 1 0 1 0 1]\n",
            " [1 0 1 0 1 0 1 0]\n",
            " [0 1 0 1 0 1 0 1]\n",
            " [1 0 1 0 1 0 1 0]\n",
            " [0 1 0 1 0 1 0 1]\n",
            " [1 0 1 0 1 0 1 0]\n",
            " [0 1 0 1 0 1 0 1]\n",
            " [1 0 1 0 1 0 1 0]]\n"
          ]
        }
      ]
    },
    {
      "cell_type": "markdown",
      "source": [
        "Problem 3: Array Operation"
      ],
      "metadata": {
        "id": "K80uVhsw-FTT"
      }
    },
    {
      "cell_type": "code",
      "source": [
        "x = np.array([[1,2], [3,5]])\n",
        "y = np.array([[5,6], [7,8]])\n",
        "v = np.array([9,10])\n",
        "w = np.array([11,12])\n",
        "add_xy = x + y\n",
        "add_vw = v + w\n",
        "\n",
        "sub_xy = x - y\n",
        "sub_vw = v - w\n",
        "\n",
        "mult_xy = x * y\n",
        "mult_vw = v * w\n",
        "\n",
        "sq_x = x**2\n",
        "sq_y = y**2\n",
        "\n",
        "dot_vw = np.dot(v, w)\n",
        "dot_xv = np.dot(x, v)\n",
        "dot_xy = np.dot(x, y)\n",
        "\n",
        "concat_xy_row = np.concatenate((x, y), axis=0)\n",
        "concat_vw_col = np.concatenate((v[:, np.newaxis], w[:, np.newaxis]), axis=1)\n",
        "\n"
      ],
      "metadata": {
        "id": "eTM7AGb1-CC_"
      },
      "execution_count": null,
      "outputs": []
    },
    {
      "cell_type": "markdown",
      "source": [
        "Problem 4: Matrix Operation"
      ],
      "metadata": {
        "id": "znkMukJ5-SHk"
      }
    },
    {
      "cell_type": "code",
      "source": [
        "import numpy as np\n",
        "\n",
        "A = np.array([[3,4], [7,8]])\n",
        "A_inv = np.linalg.inv(A)\n",
        "I = np.dot(A, A_inv)\n",
        "print(I)"
      ],
      "metadata": {
        "colab": {
          "base_uri": "https://localhost:8080/"
        },
        "id": "UQFAPyOm-YxF",
        "outputId": "0055733b-387e-41dc-8313-009aca109b7a"
      },
      "execution_count": null,
      "outputs": [
        {
          "output_type": "stream",
          "name": "stdout",
          "text": [
            "[[1.00000000e+00 0.00000000e+00]\n",
            " [1.77635684e-15 1.00000000e+00]]\n"
          ]
        }
      ]
    },
    {
      "cell_type": "code",
      "source": [
        "A = np.array([[3, 4], [7, 8]])\n",
        "B = np.array([[5, 3], [2, 1]])\n",
        "\n",
        "AB = np.dot(A, B)\n",
        "BA = np.dot(B, A)\n",
        "\n",
        "print(AB)\n",
        "print(BA)"
      ],
      "metadata": {
        "colab": {
          "base_uri": "https://localhost:8080/"
        },
        "id": "01jrUto5-csG",
        "outputId": "5f5bdbb6-7a6b-4be1-da65-a0e9b492124a"
      },
      "execution_count": null,
      "outputs": [
        {
          "output_type": "stream",
          "name": "stdout",
          "text": [
            "[[23 13]\n",
            " [51 29]]\n",
            "[[36 44]\n",
            " [13 16]]\n"
          ]
        }
      ]
    },
    {
      "cell_type": "code",
      "source": [
        "A = np.array([[3, 4], [7, 8]])\n",
        "B = np.array([[5, 3], [2, 1]])\n",
        "\n",
        "AB = np.dot(A, B)\n",
        "AB_T = AB.T\n",
        "\n",
        "B_T = B.T\n",
        "A_T = A.T\n",
        "BT_AT = np.dot(B_T, A_T)\n",
        "\n",
        "print(AB_T)\n",
        "print(BT_AT)"
      ],
      "metadata": {
        "colab": {
          "base_uri": "https://localhost:8080/"
        },
        "id": "v32_7vHt-gKH",
        "outputId": "eb71eb78-68c9-40f6-902a-4e193b02ad56"
      },
      "execution_count": null,
      "outputs": [
        {
          "output_type": "stream",
          "name": "stdout",
          "text": [
            "[[23 51]\n",
            " [13 29]]\n",
            "[[23 51]\n",
            " [13 29]]\n"
          ]
        }
      ]
    },
    {
      "cell_type": "code",
      "source": [
        "\n",
        "A = np.array([[2, -3, 1], [1, -1, 2], [3, 1, -1]])\n",
        "b = np.array([-1, -3, 9])\n",
        "\n",
        "A_inv = np.linalg.inv(A)\n",
        "x = np.dot(A_inv, b)\n",
        "print(x)"
      ],
      "metadata": {
        "colab": {
          "base_uri": "https://localhost:8080/"
        },
        "id": "zJZs_mPJ-iwl",
        "outputId": "ddc6148d-fa2d-4353-8abc-1d4707b94aff"
      },
      "execution_count": null,
      "outputs": [
        {
          "output_type": "stream",
          "name": "stdout",
          "text": [
            "[ 2.  1. -2.]\n"
          ]
        }
      ]
    },
    {
      "cell_type": "code",
      "source": [
        "\n",
        "A = np.array([[2, -3, 1], [1, -1, 2], [3, 1, -1]])\n",
        "b = np.array([-1, -3, 9])\n",
        "\n",
        "\n",
        "x = np.linalg.solve(A, b)\n",
        "\n",
        "print(x)"
      ],
      "metadata": {
        "colab": {
          "base_uri": "https://localhost:8080/"
        },
        "id": "JOp69bca-scp",
        "outputId": "8a1109c6-7695-4ecb-c436-5c6b920d0b43"
      },
      "execution_count": null,
      "outputs": [
        {
          "output_type": "stream",
          "name": "stdout",
          "text": [
            "[ 2.  1. -2.]\n"
          ]
        }
      ]
    },
    {
      "cell_type": "markdown",
      "source": [
        "experiment\n"
      ],
      "metadata": {
        "id": "MHvJPpBQnqCj"
      }
    },
    {
      "cell_type": "code",
      "source": [
        "import numpy as np\n",
        "import time\n",
        "\n",
        "# Define sizes\n",
        "list_size = 1_000_000\n",
        "matrix_size = 1000\n",
        "\n",
        "# Create lists and arrays\n",
        "list1 = [i for i in range(list_size)]\n",
        "list2 = [i for i in range(list_size)]\n",
        "\n",
        "array1 = np.array(list1)\n",
        "array2 = np.array(list2)\n",
        "\n",
        "# 1. Element-wise Addition\n",
        "# Python lists\n",
        "start_time = time.time()\n",
        "result_list_add = [list1[i] + list2[i] for i in range(list_size)]\n",
        "list_add_time = time.time() - start_time\n",
        "\n",
        "# NumPy arrays\n",
        "start_time = time.time()\n",
        "result_array_add = array1 + array2\n",
        "array_add_time = time.time() - start_time\n",
        "\n",
        "print(f\"Element-wise Addition: Python Lists = {list_add_time:.6f}s, NumPy Arrays = {array_add_time:.6f}s\")\n",
        "\n",
        "# 2. Element-wise Multiplication\n",
        "# Python lists\n",
        "start_time = time.time()\n",
        "result_list_mul = [list1[i] * list2[i] for i in range(list_size)]\n",
        "list_mul_time = time.time() - start_time\n",
        "\n",
        "# NumPy arrays\n",
        "start_time = time.time()\n",
        "result_array_mul = array1 * array2\n",
        "array_mul_time = time.time() - start_time\n",
        "\n",
        "print(f\"Element-wise Multiplication: Python Lists = {list_mul_time:.6f}s, NumPy Arrays = {array_mul_time:.6f}s\")\n",
        "\n",
        "# 3. Dot Product\n",
        "# Python lists\n",
        "start_time = time.time()\n",
        "result_list_dot = sum(list1[i] * list2[i] for i in range(list_size))\n",
        "list_dot_time = time.time() - start_time\n",
        "\n",
        "# NumPy arrays\n",
        "start_time = time.time()\n",
        "result_array_dot = np.dot(array1, array2)\n",
        "array_dot_time = time.time() - start_time\n",
        "\n",
        "print(f\"Dot Product: Python Lists = {list_dot_time:.6f}s, NumPy Arrays = {array_dot_time:.6f}s\")\n",
        "\n",
        "\n",
        "matrix1 = [[i for i in range(matrix_size)] for _ in range(matrix_size)]\n",
        "matrix2 = [[i for i in range(matrix_size)] for _ in range(matrix_size)]\n",
        "\n",
        "np_matrix1 = np.array(matrix1)\n",
        "np_matrix2 = np.array(matrix2)\n",
        "\n",
        "# Python lists\n",
        "start_time = time.time()\n",
        "result_matrix = [[sum(a * b for a, b in zip(matrix1_row, matrix2_col)) for matrix2_col in zip(*matrix2)] for matrix1_row in matrix1]\n",
        "matrix_mul_time = time.time() - start_time\n",
        "\n",
        "# NumPy arrays\n",
        "start_time = time.time()\n",
        "result_np_matrix = np.dot(np_matrix1, np_matrix2)\n",
        "np_matrix_mul_time = time.time() - start_time\n",
        "\n",
        "print(f\"Matrix Multiplication: Python Lists = {matrix_mul_time:.6f}s, NumPy Arrays = {np_matrix_mul_time:.6f}s\")"
      ],
      "metadata": {
        "id": "Yqcb8EuxnrqD"
      },
      "execution_count": null,
      "outputs": []
    }
  ]
}